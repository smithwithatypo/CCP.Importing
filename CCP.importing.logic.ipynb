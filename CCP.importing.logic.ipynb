{
 "cells": [
  {
   "cell_type": "code",
   "execution_count": 3,
   "metadata": {},
   "outputs": [],
   "source": [
    "import pandas as pd\n",
    "import numpy as np"
   ]
  },
  {
   "cell_type": "code",
   "execution_count": 5,
   "metadata": {},
   "outputs": [],
   "source": [
    "df = pd.read_csv(\"input_mockup.csv\")"
   ]
  },
  {
   "cell_type": "code",
   "execution_count": 6,
   "metadata": {},
   "outputs": [
    {
     "data": {
      "text/html": [
       "<div>\n",
       "<style scoped>\n",
       "    .dataframe tbody tr th:only-of-type {\n",
       "        vertical-align: middle;\n",
       "    }\n",
       "\n",
       "    .dataframe tbody tr th {\n",
       "        vertical-align: top;\n",
       "    }\n",
       "\n",
       "    .dataframe thead th {\n",
       "        text-align: right;\n",
       "    }\n",
       "</style>\n",
       "<table border=\"1\" class=\"dataframe\">\n",
       "  <thead>\n",
       "    <tr style=\"text-align: right;\">\n",
       "      <th></th>\n",
       "      <th>date</th>\n",
       "      <th>event</th>\n",
       "      <th>name</th>\n",
       "      <th>email</th>\n",
       "    </tr>\n",
       "  </thead>\n",
       "  <tbody>\n",
       "    <tr>\n",
       "      <th>0</th>\n",
       "      <td>11/23/20</td>\n",
       "      <td>training1</td>\n",
       "      <td>edith fakename</td>\n",
       "      <td>fake@email.com</td>\n",
       "    </tr>\n",
       "    <tr>\n",
       "      <th>1</th>\n",
       "      <td>11/23/20</td>\n",
       "      <td>training1</td>\n",
       "      <td>john fakeout</td>\n",
       "      <td>no@email.com</td>\n",
       "    </tr>\n",
       "  </tbody>\n",
       "</table>\n",
       "</div>"
      ],
      "text/plain": [
       "       date       event             name            email\n",
       "0  11/23/20   training1   edith fakename   fake@email.com\n",
       "1  11/23/20   training1     john fakeout     no@email.com"
      ]
     },
     "execution_count": 6,
     "metadata": {},
     "output_type": "execute_result"
    }
   ],
   "source": [
    "df.head()"
   ]
  },
  {
   "cell_type": "code",
   "execution_count": 14,
   "metadata": {},
   "outputs": [],
   "source": [
    "# map input columns to output columns\n",
    "# WARNING - these column names repeat... so they're probably incorrect\n",
    "\n",
    "CampID = 0\n",
    "EVCat = 0\n",
    "EVType = 0\n",
    "EVName = 0\n",
    "EventID = 0\n",
    "EVInactive = 0\n",
    "EVLoc = 0\n",
    "EvAttrCat = 0\n",
    "EVAttrDesc = 0\n",
    "EvAttrCat = 0\n",
    "EVAttrDesc = 0\n",
    "EvAttrCat = 0\n",
    "EVAttrDesc = 0\n",
    "EvAttrCat = 0\n",
    "EVAttrDesc = 0\n",
    "EvAttrCat = 0\n",
    "EVAttrDesc = 0"
   ]
  },
  {
   "cell_type": "code",
   "execution_count": 15,
   "metadata": {},
   "outputs": [],
   "source": [
    "# define output columns to construct DF\n",
    "# TO DO:  needs auto-fill (or user-input) for columns with no corresponding input data\n",
    "\n",
    "# output_df = \"CampID,EVCat,EVType,EVName,EventID,EVInactive,EVLoc,EvAttrCat,EVAttrDesc,EvAttrCat,EVAttrDesc,EvAttrCat,EVAttrDesc,EvAttrCat,EVAttrDesc,EvAttrCat,EVAttrDesc\""
   ]
  },
  {
   "cell_type": "code",
   "execution_count": null,
   "metadata": {},
   "outputs": [],
   "source": []
  }
 ],
 "metadata": {
  "kernelspec": {
   "display_name": "Python 3",
   "language": "python",
   "name": "python3"
  },
  "language_info": {
   "codemirror_mode": {
    "name": "ipython",
    "version": 3
   },
   "file_extension": ".py",
   "mimetype": "text/x-python",
   "name": "python",
   "nbconvert_exporter": "python",
   "pygments_lexer": "ipython3",
   "version": "3.8.3"
  }
 },
 "nbformat": 4,
 "nbformat_minor": 4
}
